{
 "cells": [
  {
   "cell_type": "markdown",
   "metadata": {},
   "source": [
    "# 2D Heat Equation Solver\n",
    "\n",
    "## 🌡️ Numerical Methods for Heat Diffusion\n",
    "\n",
    "This notebook demonstrates the implementation and comparison of two numerical methods for solving the 2D heat diffusion equation:\n",
    "\n",
    "1. **Explicit Euler Method** - Simple but stability-limited\n",
    "2. **Crank-Nicolson Method** - Implicit and unconditionally stable\n",
    "\n",
    "### Mathematical Background\n",
    "\n",
    "We solve the 2D heat diffusion equation:\n",
    "\n",
    "$$\\frac{\\partial u}{\\partial t} = \\alpha \\left(\\frac{\\partial^2 u}{\\partial x^2} + \\frac{\\partial^2 u}{\\partial y^2}\\right)$$\n",
    "\n",
    "Where:\n",
    "- $u(x,y,t)$ is the temperature at point $(x,y)$ at time $t$\n",
    "- $\\alpha$ is the thermal diffusion coefficient"
   ]
  },
  {
   "cell_type": "markdown",
   "metadata": {},
   "source": [
    "## Test of animated Plot"
   ]
  },
  {
   "cell_type": "code",
   "execution_count": null,
   "metadata": {},
   "outputs": [],
   "source": [
    "import numpy as np\n",
    "import matplotlib.pyplot as plt\n",
    "from matplotlib.animation import FuncAnimation\n",
    "from IPython.display import HTML\n",
    "\n",
    "x = np.linspace(0, 2*np.pi, 200)\n",
    "y = np.sin(x)\n",
    "\n",
    "fig, ax = plt.subplots()\n",
    "(line,) = ax.plot(x, y)\n",
    "\n",
    "def update(frame):\n",
    "    line.set_ydata(np.sin(x + frame/10))\n",
    "    return (line,)\n",
    "\n",
    "ani = FuncAnimation(fig, update, frames=100, interval=50, blit=True)\n",
    "HTML(ani.to_jshtml())"
   ]
  },
  {
   "cell_type": "code",
   "execution_count": null,
   "metadata": {},
   "outputs": [],
   "source": [
    "# Import necessary libraries\n",
    "import numpy as np\n",
    "%matplotlib inline\n",
    "import matplotlib.pyplot as plt\n",
    "from matplotlib.animation import FuncAnimation\n",
    "from IPython.display import HTML\n",
    "\n",
    "from scipy.sparse import diags, kron, eye\n",
    "from scipy.sparse.linalg import spsolve\n",
    "import warnings\n",
    "warnings.filterwarnings('ignore')\n",
    "\n",
    "# Set up matplotlib for better plots\n",
    "plt.rcParams['figure.figsize'] = (12, 6)\n",
    "plt.rcParams['font.size'] = 12"
   ]
  },
  {
   "cell_type": "markdown",
   "metadata": {},
   "source": [
    "## 🔧 Parameters and Initial Setup"
   ]
  },
  {
   "cell_type": "code",
   "execution_count": null,
   "metadata": {},
   "outputs": [],
   "source": [
    "# Grid parameters\n",
    "nx, ny = 30, 30        # Number of grid points\n",
    "lx, ly = 1.0, 1.0      # Domain size\n",
    "dx, dy = lx/nx, ly/ny  # Grid spacing\n",
    "\n",
    "# Physical parameters\n",
    "alpha = 0.01           # Diffusion coefficient\n",
    "dt = 0.0005            # Time step\n",
    "nt = 200               # Number of time steps\n",
    "nts = [0, 50, 100, 150, 200] # Time steps for analysis\n",
    "\n",
    "# Create coordinate grids for visualization\n",
    "x = np.linspace(0, lx, nx)\n",
    "y = np.linspace(0, ly, ny)\n",
    "X, Y = np.meshgrid(x, y)\n",
    "\n",
    "print(f\"Grid resolution: {nx}×{ny}\")\n",
    "print(f\"Domain size: {lx}×{ly}\")\n",
    "print(f\"Grid spacing: dx={dx:.4f}, dy={dy:.4f}\")\n",
    "print(f\"Time step: dt={dt}\")\n",
    "print(f\"Diffusion coefficient: α={alpha}\")"
   ]
  },
  {
   "cell_type": "markdown",
   "metadata": {},
   "source": [
    "## 🌡️ Initial Condition: Hot Spot"
   ]
  },
  {
   "cell_type": "code",
   "execution_count": null,
   "metadata": {},
   "outputs": [],
   "source": [
    "# Initial condition: hot spot in the middle\n",
    "u0 = np.zeros((nx, ny))\n",
    "u0[nx//2, ny//2] = 1.0\n",
    "\n",
    "# Visualize initial condition\n",
    "plt.figure(figsize=(8, 6))\n",
    "plt.imshow(u0, origin='lower', cmap='hot', extent=[0, lx, 0, ly])\n",
    "plt.colorbar(label='Temperature')\n",
    "plt.title('Initial Condition: Hot Spot at Center')\n",
    "plt.xlabel('x')\n",
    "plt.ylabel('y')\n",
    "plt.show()"
   ]
  },
  {
   "cell_type": "markdown",
   "metadata": {},
   "source": [
    "## 🚀 Method 1: Explicit Euler Scheme"
   ]
  },
  {
   "cell_type": "code",
   "execution_count": null,
   "metadata": {},
   "outputs": [],
   "source": [
    "def check_cfl_condition(alpha, dt, dx, dy):\n",
    "    \"\"\"Check the CFL condition for stability.\"\"\"\n",
    "    cfl_x = alpha * dt / dx**2\n",
    "    cfl_y = alpha * dt / dy**2\n",
    "    if cfl_x + cfl_y > 0.5:\n",
    "        print(f\"Warning: CFL condition not met! (CFL_x + CFL_y = {cfl_x + cfl_y:.2f} > 0.5)\")\n",
    "    else:\n",
    "        print(f\"CFL condition met. (CFL_x + CFL_y = {cfl_x + cfl_y:.2f} ≤ 0.5)\")"
   ]
  },
  {
   "cell_type": "markdown",
   "metadata": {},
   "source": [
    "### Boundary Conditions for the explicit Euler scheme\n",
    "Robin's boundary condition, i.e.\n",
    "au+b∂n∂u​=c\n",
    "   * a = 0 : Neumann boundary condition \n",
    "   * b = 0 : Dirichlet boundary condition\n",
    "   * c = 0 : Homogeneous boudary condition\n"
   ]
  },
  {
   "cell_type": "code",
   "execution_count": null,
   "metadata": {},
   "outputs": [],
   "source": [
    "# apply boundary conditions for explicit scheme\n",
    "# a = 0 : Neumann boundary condition \n",
    "# b = 0 : Dirichlet boundary condition\n",
    "# c = 0 : Homogeneous boudary condition\n",
    "def heat_explicit_robin(u, dx, dy, a, b, c):\n",
    "    # left boundary\n",
    "    u[0,1:-1] = (dx*c + b*u[1,1:-1])/(1 + a*dx)\n",
    "    # right boundary\n",
    "    u[-1,1:-1] = (dx*c + b*u[-2,1:-1])/(1 + a*dx)\n",
    "    # lower boundary\n",
    "    u[1:-1, 0] = (dy*c + b*u[1:-1, 1])/(1 + a*dy)\n",
    "    # upper boundary\n",
    "    u[1:-1, -1] = (dy*c + b*u[1:-1, -2])/(1 + a*dy)\n",
    "    # lower left corner\n",
    "    u[0,0] = 0.5*(u[1, 0] + u[0,1])\n",
    "    # lower right corner\n",
    "    u[-1,0] = 0.5*(u[-2, 0] + u[-1,1])\n",
    "    # upper right corner\n",
    "    u[-1,-1] = 0.5*(u[-2, -1] + u[-1, -2])\n",
    "    # upper left corner\n",
    "    u[0,-1] = 0.5*(u[1, -1] + u[0, -2])"
   ]
  },
  {
   "cell_type": "markdown",
   "metadata": {},
   "source": [
    "### One explicit Euler Step"
   ]
  },
  {
   "cell_type": "code",
   "execution_count": null,
   "metadata": {},
   "outputs": [],
   "source": [
    "def heat_explicit_step(u, alpha, dx, dy, dt):\n",
    "    \"\"\"\n",
    "    Perform one explicit Euler step for the 2D heat equation.\n",
    "    \"\"\"\n",
    "    u = u.copy()\n",
    "    lamx = alpha * dt / dx**2\n",
    "    lamy = alpha * dt / dy**2\n",
    "    un = u.copy()\n",
    "    \n",
    "    u[1:-1, 1:-1] = (un[1:-1, 1:-1]\n",
    "    + lamx * (un[2:, 1:-1] - 2*un[1:-1, 1:-1] + un[:-2, 1:-1])\n",
    "    + lamy * (un[1:-1, 2:] - 2*un[1:-1, 1:-1] + un[1:-1, :-2]))\n",
    "    \n",
    "    return u\n",
    "\n",
    "\n",
    "\n",
    "# Check stability condition (CFL condition)\n",
    "cfl_condition = alpha * dt * (1/dx**2 + 1/dy**2)\n",
    "print(f\"CFL condition: {cfl_condition:.4f} (should be ≤ 0.5 for stability)\")\n",
    "print(f\"Method is {'STABLE' if cfl_condition <= 0.5 else 'UNSTABLE'}\")"
   ]
  },
  {
   "cell_type": "markdown",
   "metadata": {},
   "source": [
    "### nt explicit Euler Steps"
   ]
  },
  {
   "cell_type": "code",
   "execution_count": null,
   "metadata": {},
   "outputs": [],
   "source": [
    "def heat_explicit(u, alpha, dx, dy, dt, nt):\n",
    "    \"\"\"\n",
    "    Solve heat equation using explicit Euler for nt time steps.\n",
    "    \"\"\"\n",
    "    for _ in range(nt):\n",
    "        u = heat_explicit_step(u, alpha, dx, dy, dt)\n",
    "    return u"
   ]
  },
  {
   "cell_type": "markdown",
   "metadata": {},
   "source": [
    "## 🏗️ Method 2: Crank-Nicolson Scheme"
   ]
  },
  {
   "cell_type": "code",
   "execution_count": null,
   "metadata": {},
   "outputs": [],
   "source": [
    "def Crank_Nicolson_matrices(alpha, dx, dy, dt):\n",
    "    \"\"\"\n",
    "    Build the sparse matrices A and B for the Crank-Nicolson scheme.\n",
    "    \"\"\"\n",
    "    lamx = alpha * dt / (2*dx**2)\n",
    "    lamy = alpha * dt / (2*dy**2)\n",
    "\n",
    "    # 1D second difference matrices\n",
    "    ex = np.ones(nx)\n",
    "    ey = np.ones(ny)\n",
    "    Tx = diags([ex, -2*ex, ex], [-1, 0, 1], shape=(nx, nx))\n",
    "    Ty = diags([ey, -2*ey, ey], [-1, 0, 1], shape=(ny, ny))\n",
    "\n",
    "    # 2D Laplacian using Kronecker products\n",
    "    Ix = eye(nx)\n",
    "    Iy = eye(ny)\n",
    "    L = kron(Iy, Tx)/(dx**2) + kron(Ty, Ix)/(dy**2)\n",
    "\n",
    "    # Crank Nicolson matrices\n",
    "    A = eye(nx*ny) - alpha*dt/2 * L\n",
    "    B = eye(nx*ny) + alpha*dt/2 * L\n",
    "\n",
    "    return [A, B]\n"
   ]
  },
  {
   "cell_type": "code",
   "execution_count": null,
   "metadata": {},
   "outputs": [],
   "source": [
    "# Crank-Nicolson matrices with boundary conditions\n",
    "# a = 0 : Dirichlet boundary condition\n",
    "# b = 0 : Neumann boundary condition\n",
    "# c = 0 : Homogeneous boudary condition\n",
    "def Crank_Nicolson_matrices_robin(nx, ny, dx, dy, alpha, dt, a, b=0, c=0):\n",
    "    \"\"\"\n",
    "    Erzeugt die Crank-Nicolson-Matrizen A, B für 2D-Wärmeleitung\n",
    "    mit allgemeinen Robin-Randbedingungen:\n",
    "        a u + b du/dn = c\n",
    "    auf allen Rändern.\n",
    "\n",
    "    Rückgabe:\n",
    "        A, B, rhs_fun\n",
    "    wobei rhs_fun(u) den Zusatzvektor f berechnet (wegen c).\n",
    "    \"\"\"\n",
    "    N = nx * ny\n",
    "\n",
    "    # Standard-Laplace-Operator mit Kronecker-Produkten\n",
    "    ex = np.ones(nx)\n",
    "    ey = np.ones(ny)\n",
    "    Tx = diags([ex, -2*ex, ex], [-1,0,1], shape=(nx,nx))\n",
    "    Ty = diags([ey, -2*ey, ey], [-1,0,1], shape=(ny,ny))\n",
    "\n",
    "    Ix = eye(nx)\n",
    "    Iy = eye(ny)\n",
    "    L = kron(Iy, Tx)/(dx**2) + kron(Ty, Ix)/(dy**2)\n",
    "\n",
    "    A = eye(N) - alpha*dt/2 * L\n",
    "    B = eye(N) + alpha*dt/2 * L\n",
    "\n",
    "    A = A.tolil()\n",
    "    B = B.tolil()\n",
    "\n",
    "    def idx(i,j):\n",
    "        return j*nx + i\n",
    "\n",
    "    # --- Randbedingungen einbauen ---\n",
    "    rhs = np.zeros(N)\n",
    "\n",
    "    # linke Kante (x=0)\n",
    "    for j in range(ny):\n",
    "        row = idx(0,j)\n",
    "        A[row,:] = 0\n",
    "        B[row,:] = 0\n",
    "        A[row,row] = a - b/dx\n",
    "        A[row,idx(1,j)] = b/dx\n",
    "        rhs[row] = c\n",
    "\n",
    "    # rechte Kante (x=lx)\n",
    "    for j in range(ny):\n",
    "        row = idx(nx-1,j)\n",
    "        A[row,:] = 0\n",
    "        B[row,:] = 0\n",
    "        A[row,row] = a + b/dx\n",
    "        A[row,idx(nx-2,j)] = -b/dx\n",
    "        rhs[row] = c\n",
    "\n",
    "    # untere Kante (y=0)\n",
    "    for i in range(nx):\n",
    "        row = idx(i,0)\n",
    "        A[row,:] = 0\n",
    "        B[row,:] = 0\n",
    "        A[row,row] = a - b/dy\n",
    "        A[row,idx(i,1)] = b/dy\n",
    "        rhs[row] = c\n",
    "\n",
    "    # obere Kante (y=ly)\n",
    "    for i in range(nx):\n",
    "        row = idx(i,ny-1)\n",
    "        A[row,:] = 0\n",
    "        B[row,:] = 0\n",
    "        A[row,row] = a + b/dy\n",
    "        A[row,idx(i,ny-2)] = -b/dy\n",
    "        rhs[row] = c\n",
    "\n",
    "    A = A.tocsr()\n",
    "    B = B.tocsr()\n",
    "\n",
    "    # kleine Hilfsfunktion für den inhomogenen Anteil\n",
    "    def rhs_fun():\n",
    "        return rhs.copy()\n",
    "\n",
    "    return A, B, rhs_fun"
   ]
  },
  {
   "cell_type": "code",
   "execution_count": null,
   "metadata": {},
   "outputs": [],
   "source": [
    "def heat_implicit_step(u, A=None, B=None):\n",
    "    \"\"\"\n",
    "    Perform one implicit Crank-Nicolson step.\n",
    "    \"\"\"\n",
    "    if A is None or B is None:\n",
    "        # [A,B] = Crank_Nicolson_matrices(alpha, dx, dy, dt)\n",
    "        [A,B, _] = Crank_Nicolson_matrices_robin(nx, ny, dx, dy, alpha, dt, 1)\n",
    "    u = u.copy().reshape(-1)\n",
    "    u = spsolve(A, B @ u)\n",
    "    return u.reshape((nx, ny))"
   ]
  },
  {
   "cell_type": "code",
   "execution_count": null,
   "metadata": {},
   "outputs": [],
   "source": [
    "def heat_implicit(u, alpha, dx, dy, dt, nt):\n",
    "    \"\"\"\n",
    "    Solve heat equation using Crank-Nicolson for nt time steps.\n",
    "    \"\"\"\n",
    "    u = u.copy().reshape(-1)\n",
    "    # [A,B] = Crank_Nicolson_matrices(alpha, dx, dy, dt)\n",
    "    [A,B, _] = Crank_Nicolson_matrices_robin(nx, ny, dx, dy, alpha, dt, 1)\n",
    "\n",
    "    for n in range(nt):\n",
    "        u = heat_implicit_step(u, A, B)\n",
    "\n",
    "    return u.reshape((nx, ny))"
   ]
  },
  {
   "cell_type": "markdown",
   "metadata": {},
   "source": [
    "## 📊 Example 1: Static Comparison"
   ]
  },
  {
   "cell_type": "code",
   "execution_count": 25,
   "metadata": {},
   "outputs": [
    {
     "data": {
      "image/png": "[encoded data removed]",
      "text/plain": [
       "<Figure size 1000x400 with 2 Axes>"
      ]
     },
     "metadata": {},
     "output_type": "display_data"
    }
   ],
   "source": [
    "def example1():\n",
    "    \"\"\"\n",
    "    Compare explicit and implicit schemes with static results.\n",
    "    \"\"\"\n",
    "    # Run explicit and implicit schemes\n",
    "    ue = heat_explicit(u0, alpha, dx, dy, dt, nt)\n",
    "    ui = heat_implicit(u0, alpha, dx, dy, dt, nt)\n",
    "\n",
    "    # Plot results\n",
    "    fig, axs = plt.subplots(1, 2, figsize=(10, 4))\n",
    "    axs[0].imshow(ue, origin=\"lower\", cmap=\"hot\")\n",
    "    axs[0].set_title(\"Explicit Euler\")\n",
    "    axs[1].imshow(ui, origin=\"lower\", cmap=\"hot\")\n",
    "    axs[1].set_title(\"Implicit Crank Nicolson\")\n",
    "    plt.tight_layout()\n",
    "    plt.show()\n",
    "    \n",
    "    return ue, ui\n",
    "\n",
    "# Run the comparison\n",
    "ue_result, ui_result = example1()"
   ]
  },
  {
   "cell_type": "markdown",
   "metadata": {},
   "source": [
    "## 🎬 Example 2: Animation Comparison"
   ]
  },
  {
   "cell_type": "code",
   "execution_count": null,
   "metadata": {},
   "outputs": [],
   "source": [
    "def example2(alpha):\n",
    "    \"\"\"\n",
    "    Create animated comparison of both methods.\n",
    "    Note: Animation may not display in static notebook view.\n",
    "    \"\"\"\n",
    "    # Prepare animation\n",
    "    fig, axs = plt.subplots(1, 2, figsize=(10, 4))\n",
    "    im0 = axs[0].imshow(u0, origin=\"lower\", cmap=\"coolwarm\", animated=True)\n",
    "    axs[0].set_title(\"Heat diffusion\")\n",
    "\n",
    "    im1 = axs[1].imshow(u0, origin=\"lower\", cmap=\"coolwarm\", animated=True)\n",
    "    axs[1].set_title(\"Heat diffusion\")\n",
    "\n",
    "    u = u0.copy()\n",
    "\n",
    "    def update(frame):\n",
    "        nonlocal u  # refers to u from example2 scope\n",
    "        nonlocal alpha\n",
    "        u = heat_explicit_step(u, alpha, dx, dy, dt)\n",
    "        im0.set_array(u)\n",
    "        axs[0].set_title(f\"Explicit Euler. timestep {frame}\")\n",
    "\n",
    "        [A,B] = Crank_Nicolson_matrices(u, alpha, dx, dy, dt)\n",
    "        u = heat_implicit_step(u, A, B)\n",
    "        im1.set_array(u)\n",
    "        axs[1].set_title(f\"Crank Nicolson. timestep {frame}\")\n",
    "        return [im0, im1]\n",
    "\n",
    "    ani = FuncAnimation(fig, update, frames=nt, interval=50, blit=False)\n",
    "\n",
    "    return HTML(ani.to_jshtml())\n"
   ]
  },
  {
   "cell_type": "markdown",
   "metadata": {},
   "source": [
    "## Static Comparison"
   ]
  },
  {
   "cell_type": "code",
   "execution_count": null,
   "metadata": {},
   "outputs": [],
   "source": [
    "print(\"🌡️ 2D Heat Equation Solver\")\n",
    "print(\"=\" * 50)\n",
    "# Run static comparison\n",
    "print(\"\\n📊 Running static comparison...\")\n",
    "example1()"
   ]
  },
  {
   "cell_type": "markdown",
   "metadata": {},
   "source": [
    "## First Animation"
   ]
  },
  {
   "cell_type": "code",
   "execution_count": null,
   "metadata": {},
   "outputs": [],
   "source": [
    "print(\"\\n📊 Running animation...\")\n",
    "example2(0.01)"
   ]
  },
  {
   "cell_type": "markdown",
   "metadata": {},
   "source": [
    "## Parameter Study for different alpha"
   ]
  },
  {
   "cell_type": "code",
   "execution_count": null,
   "metadata": {},
   "outputs": [],
   "source": [
    "print(\"\\n🔬 Running parameter study...\")\n",
    "alphas_to_test = [0.001, 0.01, 0.05, 0.1, 0.2, 0.5, 0.6]\n",
    "\n",
    "for alpha_val in alphas_to_test:\n",
    "    cfl = alpha_val * dt * (1/dx**2 + 1/dy**2)\n",
    "    stability = \"STABLE\" if cfl <= 0.5 else \"UNSTABLE\"\n",
    "    print(f\"α = {alpha_val:5.3f}, CFL = {cfl:.4f}, Status: {stability}\")\n",
    "\n",
    "example2(0.5)\n",
    "print(\"\\n✅ Analysis complete!\")"
   ]
  },
  {
   "cell_type": "markdown",
   "metadata": {},
   "source": [
    "## 📝 Summary\n",
    "\n",
    "This notebook demonstrates:\n",
    "\n",
    "1. **Explicit Euler Method**: Simple to implement but limited by stability constraints (CFL condition)\n",
    "2. **Crank-Nicolson Method**: More complex but unconditionally stable\n",
    "3. **Parameter Analysis**: How different diffusion coefficients affect the solution\n",
    "4. **Visualization**: Static plots and animated comparisons\n",
    "\n",
    "### Key Takeaways:\n",
    "- The CFL condition limits the time step for explicit methods\n",
    "- Implicit methods can use larger time steps without stability issues\n",
    "- Both methods converge to similar solutions when stable\n",
    "- Animation helps visualize the time evolution of the heat diffusion process\n",
    "\n",
    "### Next Steps:\n",
    "- Experiment with different initial conditions\n",
    "- Try different boundary conditions\n",
    "- Compare with analytical solutions for simple cases\n",
    "- Implement higher-order schemes"
   ]
  }
 ],
 "metadata": {
  "kernelspec": {
   "display_name": "Python 3",
   "language": "python",
   "name": "python3"
  },
  "language_info": {
   "codemirror_mode": {
    "name": "ipython",
    "version": 3
   },
   "file_extension": ".py",
   "mimetype": "text/x-python",
   "name": "python",
   "nbconvert_exporter": "python",
   "pygments_lexer": "ipython3",
   "version": "3.11.4"
  }
 },
 "nbformat": 4,
 "nbformat_minor": 4
}
